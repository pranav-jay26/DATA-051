{
 "cells": [
  {
   "cell_type": "code",
   "execution_count": 4,
   "id": "1428eb13",
   "metadata": {},
   "outputs": [
    {
     "name": "stdout",
     "output_type": "stream",
     "text": [
      "             vote  education  age leave_column age_group\n",
      "0           leave        3.0   60         True  mid-life\n",
      "1           leave        NaN   56         True  mid-life\n",
      "2            stay        5.0   73        False       old\n",
      "3           leave        4.0   64         True       old\n",
      "4      don't know        2.0   68          NaN       old\n",
      "...           ...        ...  ...          ...       ...\n",
      "30890        stay        4.0   21        False     young\n",
      "30891       leave        NaN   18         True     young\n",
      "30892        stay        NaN   61        False       old\n",
      "30893        stay        3.0   18        False     young\n",
      "30894        stay        3.0   23        False     young\n",
      "\n",
      "[30895 rows x 5 columns]\n"
     ]
    }
   ],
   "source": [
    "\n",
    "\n",
    "df = pd.read_csv(\"BES2.csv\")\n",
    "\n",
    "df['leave_column'] = df['vote'].apply(lambda x: True if x == 'leave' else (False if x == 'stay' else np.nan))\n",
    "\n",
    "bins = [0, 29, 60, float('inf')]\n",
    "labels = ['young', 'mid-life', 'old']\n",
    "df['age_group'] = pd.cut(df['age'], bins=bins, labels=labels, right=True)\n",
    "print(df)\n",
    "\n",
    "df.to_csv(\"BES2_analyzed.csv\", index=False)"
   ]
  }
 ],
 "metadata": {
  "kernelspec": {
   "display_name": "Python 3 (ipykernel)",
   "language": "python",
   "name": "python3"
  },
  "language_info": {
   "codemirror_mode": {
    "name": "ipython",
    "version": 3
   },
   "file_extension": ".py",
   "mimetype": "text/x-python",
   "name": "python",
   "nbconvert_exporter": "python",
   "pygments_lexer": "ipython3",
   "version": "3.13.0"
  }
 },
 "nbformat": 4,
 "nbformat_minor": 5
}
