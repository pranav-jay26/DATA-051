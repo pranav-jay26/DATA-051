{
 "cells": [
  {
   "cell_type": "code",
   "execution_count": 6,
   "id": "f24b5d4c",
   "metadata": {},
   "outputs": [
    {
     "ename": "ModuleNotFoundError",
     "evalue": "No module named 'ace_tools'",
     "output_type": "error",
     "traceback": [
      "\u001b[0;31m---------------------------------------------------------------------------\u001b[0m",
      "\u001b[0;31mModuleNotFoundError\u001b[0m                       Traceback (most recent call last)",
      "Cell \u001b[0;32mIn[6], line 19\u001b[0m\n\u001b[1;32m     16\u001b[0m wheel_configurations_df \u001b[38;5;241m=\u001b[39m pd\u001b[38;5;241m.\u001b[39mDataFrame(data)\n\u001b[1;32m     18\u001b[0m \u001b[38;5;66;03m# Display the table to the user\u001b[39;00m\n\u001b[0;32m---> 19\u001b[0m \u001b[38;5;28;01mimport\u001b[39;00m \u001b[38;5;21;01mace_tools\u001b[39;00m \u001b[38;5;28;01mas\u001b[39;00m \u001b[38;5;21;01mtools\u001b[39;00m; tools\u001b[38;5;241m.\u001b[39mdisplay_dataframe_to_user(name\u001b[38;5;241m=\u001b[39m\u001b[38;5;124m\"\u001b[39m\u001b[38;5;124mWheel Configuration Table\u001b[39m\u001b[38;5;124m\"\u001b[39m, dataframe\u001b[38;5;241m=\u001b[39mwheel_configurations_df)\n",
      "\u001b[0;31mModuleNotFoundError\u001b[0m: No module named 'ace_tools'"
     ]
    }
   ],
   "source": [
    "import pandas as pd\n",
    "\n",
    "# Create a table with the desired structure and fill it with sample values\n",
    "data = {\n",
    "    \"Design Diagram (description & drawing)\": [\"Two-wheel Differential Drive (rectangle chassis)\", \n",
    "                                               \"Three-wheel Tricycle (triangle chassis)\", \n",
    "                                               \"Six-wheel All-terrain Vehicle (rectangle chassis)\"],\n",
    "    \"CDOF (Controllable DOF)\": [2, 2, 2],\n",
    "    \"TDOF (Total DOF)\": [3, 3, 3],\n",
    "    \"Controllability (1-5)\": [3, 4, 5],\n",
    "    \"Maneuverability (1-5)\": [3, 2, 3],\n",
    "    \"Stability (1-5)\": [2, 3, 5]\n",
    "}\n",
    "\n",
    "# Convert the data into a DataFrame\n",
    "wheel_configurations_df = pd.DataFrame(data)\n",
    "\n",
    "# Display the table to the user\n",
    "import ace_tools as tools; tools.display_dataframe_to_user(name=\"Wheel Configuration Table\", dataframe=wheel_configurations_df)\n"
   ]
  },
  {
   "cell_type": "code",
   "execution_count": 4,
   "id": "536f16ea",
   "metadata": {},
   "outputs": [
    {
     "name": "stdout",
     "output_type": "stream",
     "text": [
      "Requirement already satisfied: ace_tools in ./venv/lib/python3.11/site-packages (0.0)\n",
      "Note: you may need to restart the kernel to use updated packages.\n"
     ]
    }
   ],
   "source": [
    "pip install ace_tools"
   ]
  }
 ],
 "metadata": {
  "kernelspec": {
   "display_name": "Python 3 (ipykernel)",
   "language": "python",
   "name": "python3"
  },
  "language_info": {
   "codemirror_mode": {
    "name": "ipython",
    "version": 3
   },
   "file_extension": ".py",
   "mimetype": "text/x-python",
   "name": "python",
   "nbconvert_exporter": "python",
   "pygments_lexer": "ipython3",
   "version": "3.11.1"
  }
 },
 "nbformat": 4,
 "nbformat_minor": 5
}
