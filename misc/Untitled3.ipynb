{
 "cells": [
  {
   "cell_type": "code",
   "execution_count": 1,
   "id": "8be63ebd",
   "metadata": {},
   "outputs": [
    {
     "name": "stdout",
     "output_type": "stream",
     "text": [
      "Requirement already satisfied: pyarrow in ./venv/lib/python3.11/site-packages (16.1.0)\n",
      "Requirement already satisfied: numpy>=1.16.6 in ./venv/lib/python3.11/site-packages (from pyarrow) (2.0.0)\n",
      "Note: you may need to restart the kernel to use updated packages.\n"
     ]
    }
   ],
   "source": [
    "pip install pyarrow\n"
   ]
  },
  {
   "cell_type": "code",
   "execution_count": 5,
   "id": "cdcea406",
   "metadata": {},
   "outputs": [
    {
     "name": "stdout",
     "output_type": "stream",
     "text": [
      "crossbow                 0.1.0        /Users/pranavjay/DATA-051/crossbow\n",
      "Note: you may need to restart the kernel to use updated packages.\n"
     ]
    }
   ],
   "source": [
    "pip list | grep crossbow"
   ]
  },
  {
   "cell_type": "code",
   "execution_count": 4,
   "id": "96d7de26",
   "metadata": {},
   "outputs": [
    {
     "data": {
      "text/plain": [
       "pyarrow.Table\n",
       "PassengerId: int64\n",
       "Survived: int64\n",
       "Pclass: int64\n",
       "Name: string\n",
       "Sex: string\n",
       "Age: double\n",
       "SibSp: int64\n",
       "Parch: int64\n",
       "Ticket: string\n",
       "Fare: double\n",
       "Cabin: string\n",
       "Embarked: string\n",
       "----\n",
       "PassengerId: [[1,2,3,4,5,...,887,888,889,890,891]]\n",
       "Survived: [[0,1,1,1,0,...,0,1,0,1,0]]\n",
       "Pclass: [[3,1,3,1,3,...,2,1,3,1,3]]\n",
       "Name: [[\"Braund, Mr. Owen Harris\",\"Cumings, Mrs. John Bradley (Florence Briggs Thayer)\",\"Heikkinen, Miss. Laina\",\"Futrelle, Mrs. Jacques Heath (Lily May Peel)\",\"Allen, Mr. William Henry\",...,\"Montvila, Rev. Juozas\",\"Graham, Miss. Margaret Edith\",\"Johnston, Miss. Catherine Helen \"Carrie\"\",\"Behr, Mr. Karl Howell\",\"Dooley, Mr. Patrick\"]]\n",
       "Sex: [[\"male\",\"female\",\"female\",\"female\",\"male\",...,\"male\",\"female\",\"female\",\"male\",\"male\"]]\n",
       "Age: [[22,38,26,35,35,...,27,19,null,26,32]]\n",
       "SibSp: [[1,1,0,1,0,...,0,0,1,0,0]]\n",
       "Parch: [[0,0,0,0,0,...,0,0,2,0,0]]\n",
       "Ticket: [[\"A/5 21171\",\"PC 17599\",\"STON/O2. 3101282\",\"113803\",\"373450\",...,\"211536\",\"112053\",\"W./C. 6607\",\"111369\",\"370376\"]]\n",
       "Fare: [[7.25,71.2833,7.925,53.1,8.05,...,13,30,23.45,30,7.75]]\n",
       "..."
      ]
     },
     "execution_count": 4,
     "metadata": {},
     "output_type": "execute_result"
    }
   ],
   "source": [
    "import pyarrow as pa\n",
    "from pyarrow import csv\n",
    "import crossbow as cxb\n",
    "\n",
    "table_csv = csv.read_csv('train.csv')\n",
    "record_batch = cxb.read_excel('train.xlsx', 'Sheet1')\n",
    "table_excel = "
   ]
  }
 ],
 "metadata": {
  "kernelspec": {
   "display_name": "Python 3 (ipykernel)",
   "language": "python",
   "name": "python3"
  },
  "language_info": {
   "codemirror_mode": {
    "name": "ipython",
    "version": 3
   },
   "file_extension": ".py",
   "mimetype": "text/x-python",
   "name": "python",
   "nbconvert_exporter": "python",
   "pygments_lexer": "ipython3",
   "version": "3.11.1"
  }
 },
 "nbformat": 4,
 "nbformat_minor": 5
}
